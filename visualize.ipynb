{
 "cells": [
  {
   "cell_type": "markdown",
   "metadata": {},
   "source": []
  },
  {
   "cell_type": "code",
   "execution_count": 4,
   "metadata": {},
   "outputs": [],
   "source": [
    "import json\n",
    "import sys\n",
    "import os\n",
    "import re"
   ]
  },
  {
   "cell_type": "code",
   "execution_count": 30,
   "metadata": {},
   "outputs": [],
   "source": [
    "def openModule(folder):\n",
    "    \n",
    "    all_files = os.listdir(folder)\n",
    "    # starts with 1 or 2 digits, then -, then any number of characters after\n",
    "    patternStartsWithNumber = \"^\\d{1,2}-.*$\"\n",
    "    found = [file for file in all_files if re.match(patternStartsWithNumber, file)]\n",
    "    \n",
    "    found.sort()\n",
    "\n",
    "    days = []\n",
    "    \n",
    "    for file in found:\n",
    "        print(file)\n",
    "        day = json.load(fp=open(f'{folder}/{file}','r'))\n",
    "        days.append(day)\n",
    "    \n",
    "    return days, found\n",
    "\n",
    "\n"
   ]
  },
  {
   "cell_type": "code",
   "execution_count": 31,
   "metadata": {},
   "outputs": [
    {
     "name": "stdout",
     "output_type": "stream",
     "text": [
      "01-day19-express.json\n",
      "02-day20-ejs.json\n",
      "03-day21-htmlforms+POST+PU+DELETE.json\n",
      "04-day22-PROMISES-start-ideation.json\n",
      "05-day23-SQL.json\n",
      "06-day24-sql+scema-design.json\n",
      "07-day25-express+one2many.json\n",
      "08-day26-pg-promises+many2many.json\n",
      "09-day27-inner_join.json\n",
      "10-day29-sql_grab_bag.json\n",
      "11-day30-project_file_structure.json\n",
      "12-day34-project.json\n",
      "13-day36-project.json\n",
      "14-day37-project.json\n",
      "15-day39-project.json\n",
      "16-day40-project.json\n",
      "17-hw-day42-heroku-deploy-homework.json\n"
     ]
    }
   ],
   "source": [
    "days, module2_files = openModule(\"Module2\")\n",
    "\n"
   ]
  },
  {
   "cell_type": "markdown",
   "metadata": {},
   "source": []
  },
  {
   "cell_type": "code",
   "execution_count": 58,
   "metadata": {},
   "outputs": [
    {
     "data": {
      "text/html": [
       "<table><tr><td>day#</td><td>preclass</td><td>inclass</td><td>postclass</td></tr><tr><td>1</td><td>3.0: Overview<br>3.1: Express.js<br>3.1.1: Express with JSON DB<br></td><td>3.ICE.1: Bigfoot<br></td><td>['3.POCE.1: Express Noodle App<br>', None]</td></tr><tr><td>2</td><td>3.2: EJS<br>3.2.2: EJS Conditionals<br>3.2.3: EJS Partials<br></td><td>3.ICE.2: Bigfoot EJS<br></td><td>['3.POCE.2: Express, EJS Noodle App<br>', None]</td></tr><tr><td>3</td><td>3.1.2: HTML Forms<br>3.1.3: Handling POST Requests<br>3.1.4: PUT, DELETE Requests<br>0.7: Thunder Client<br></td><td>3.ICE.3: Bigfoot POST<br></td><td>['3.POCE.3: UFO Sightings<br>', None]</td></tr><tr><td>4</td><td>0.8: JS Promises<br>0.8.1: Promise.prototype.catch, Promise.all<br></td><td></td><td>['3.POCE.3: UFO Sightings<br>', 'Project 2 Ideation Phase 1<br>']</td></tr><tr><td>5</td><td>3.3: SQL Language<br>3.3.1: Basic SQL Commands<br>3.4: SQL Applications<br>3.4.1: PostgreSQL, psql<br>3.4.2: PostgreSQL Node App<br></td><td></td><td>['3.POCE.4: Meal Tracker<br>', None]</td></tr><tr><td>6</td><td>3.4.3: Nested SQL Queries<br>3.3.6: SQL Schema Design<br></td><td></td><td>['3.POCE.3: UFO Sightings<br>', None]</td></tr><tr><td>7</td><td>3.4.4: PostgreSQL Express App<br>3.3.2: SQL Relationships (One to Many)<br>3.4.5: Forms for One-to-Many Relationships<br></td><td>3.ICE.5: One to Many<br></td><td>['', None]</td></tr><tr><td>8</td><td>3.4.7: pg Promises<br>3.3.3: SQL Relationships (Many to Many)<br>3.4.6: Forms for Many-to-Many Relationships<br></td><td>3.ICE.7: Many-to-Many<br></td><td>['3.POCE.5: Bird Watching<br>', None]</td></tr><tr><td>9</td><td>3.3.4: Inner Join<br>3.3.5: Non-FK Relationship Data in Join Table<br></td><td>3.ICE.6: Inner Joins<br>3.ICE.8: Multiple Foreign Keys<br></td><td>['Project 2 Ideation Phase 2<br>', None]</td></tr><tr><td>10</td><td>3.4.10: Dates in SQL and JS<br>3.4.11: File Uploads<br>3.5.1: Cookies<br>3.5.2: User Auth<br></td><td>3.POCE.6: Bird Watching Users<br></td><td>['3.POCE.8: Bird Watching Behaviour<br>', 'Project 2 Ideation Phase 2<br>']</td></tr><tr><td>11</td><td>3.4.9: Database Setup Files<br></td><td>3.ICE.9: DB Schema Design - Carousell<br></td><td>['3.POCE.9: Bird Watching Comments<br>', '']</td></tr><tr><td>12</td><td></td><td>3.ICE.12: DB Schema Design - Instagram<br></td><td>[None, None]</td></tr><tr><td>13</td><td>None</td><td>None</td><td>[None, 'Project 2 Implementation<br>']</td></tr><tr><td>14</td><td>None</td><td>None</td><td>[None, 'Project 2 Mid-Point Instructor Meeting (30 minutes)<br>Project 2 Implementation<br>']</td></tr><tr><td>15</td><td>None</td><td>None</td><td>[None, 'Project 2 Implementation<br>']</td></tr><tr><td>16</td><td>None</td><td>None</td><td>[None, 'Project 2 Implementation<br>']</td></tr><tr><td>17</td><td>3.6: Heroku<br>3.6.1: Heroku Deploy<br>3.6.2: Heroku Postgres<br>3.6.3: Heroku S3<br>0.10: Introduction to Classes<br></td><td>None</td><td>['3.POCE.11: Heroku Deployment<br>', None]</td></tr></table>"
      ],
      "text/plain": [
       "<IPython.core.display.HTML object>"
      ]
     },
     "metadata": {},
     "output_type": "display_data"
    }
   ],
   "source": [
    "from IPython.display import HTML, display\n",
    "\n",
    "def processItems(items):\n",
    "    if \"items\" not in items:\n",
    "        return None\n",
    "    \n",
    "    \n",
    "    items = items['items']\n",
    "    names = [item['name'] for item in items]\n",
    "\n",
    "    output = ''\n",
    "    for name in names:\n",
    "        output = output + name + '<br>'\n",
    "\n",
    "    return output\n",
    "    \n",
    "\n",
    "    # if items is None or len(items) == 0 : \n",
    "    #     return 'None'\n",
    "    # else:\n",
    "    #     return [item['name'] for item in items]\n",
    "        \n",
    "\n",
    "module_outline = []\n",
    "\n",
    "def generateOutline(days):\n",
    "\n",
    "    day_number = ['day#']\n",
    "    preclass = ['preclass']\n",
    "    inclass = ['inclass']\n",
    "    postclass = ['postclass']\n",
    "\n",
    "    i=1\n",
    "    for day in days:\n",
    "        day_number.append(i)\n",
    "        i += 1\n",
    "        preclass.append(processItems(day['dateTypes']['general']['preClass']))\n",
    "        inclass.append(processItems(day['dateTypes']['general']['inClass']))\n",
    "        postclass.append([processItems(day['dateTypes']['general']['postClass']),processItems(day['dateTypes']['projects']['postClass'])])\n",
    "        \n",
    "\n",
    "    return [day_number,preclass, inclass, postclass]\n",
    "\n",
    "\n",
    "def generateOutlineDayRows(days):\n",
    "\n",
    "    outline = []\n",
    "    outline.append(['day#','preclass', 'inclass', 'postclass'])\n",
    "\n",
    "    i=1\n",
    "    for day in days:\n",
    "        row = []\n",
    "\n",
    "        row.append(i)\n",
    "        i += 1\n",
    "        row.append(processItems(day['dateTypes']['general']['preClass']))\n",
    "        row.append(processItems(day['dateTypes']['general']['inClass']))\n",
    "        row.append([processItems(day['dateTypes']['general']['postClass']),processItems(day['dateTypes']['projects']['postClass'])])\n",
    "\n",
    "        outline.append(row)\n",
    "        \n",
    "\n",
    "    return outline\n",
    "\n",
    "# module_outline = generateOutline(days)\n",
    "module_outline = generateOutlineDayRows(days)\n",
    "\n",
    "\n",
    "data = module_outline #[list(x) for x in zip(module_outline)]\n",
    "\n",
    "display(HTML(\n",
    "   '<table><tr>{}</tr></table>'.format(\n",
    "       '</tr><tr>'.join(\n",
    "           '<td>{}</td>'.format('</td><td>'.join(str(_) for _ in row)) for row in data)\n",
    "       )\n",
    "))"
   ]
  },
  {
   "cell_type": "code",
   "execution_count": null,
   "metadata": {},
   "outputs": [],
   "source": []
  }
 ],
 "metadata": {
  "interpreter": {
   "hash": "aee8b7b246df8f9039afb4144a1f6fd8d2ca17a180786b69acc140d282b71a49"
  },
  "kernelspec": {
   "display_name": "Python 3.9.7 64-bit",
   "language": "python",
   "name": "python3"
  },
  "language_info": {
   "codemirror_mode": {
    "name": "ipython",
    "version": 3
   },
   "file_extension": ".py",
   "mimetype": "text/x-python",
   "name": "python",
   "nbconvert_exporter": "python",
   "pygments_lexer": "ipython3",
   "version": "3.9.7"
  },
  "orig_nbformat": 4
 },
 "nbformat": 4,
 "nbformat_minor": 2
}
