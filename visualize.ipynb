{
 "cells": [
  {
   "cell_type": "markdown",
   "metadata": {},
   "source": [
    "# Setup"
   ]
  },
  {
   "cell_type": "code",
   "execution_count": 3,
   "metadata": {},
   "outputs": [],
   "source": [
    "import json\n",
    "import sys\n",
    "import os\n",
    "import re"
   ]
  },
  {
   "cell_type": "code",
   "execution_count": 4,
   "metadata": {},
   "outputs": [],
   "source": [
    "def openModule(folder, pattern):\n",
    "    \n",
    "    all_files = os.listdir(folder)\n",
    "    \n",
    "    files = [file for file in all_files if re.match(pattern, file)]\n",
    "    \n",
    "    files.sort()\n",
    "\n",
    "    days = []\n",
    "    \n",
    "    for file in files:\n",
    "        # print(file)\n",
    "        day = json.load(fp=open(f'{folder}/{file}','r'))\n",
    "        days.append(day)\n",
    "    \n",
    "    return days, files\n",
    "\n",
    "\n"
   ]
  },
  {
   "cell_type": "code",
   "execution_count": 5,
   "metadata": {},
   "outputs": [],
   "source": [
    "# Module 2 filenames start with 1 or 2 digits, then -, then any number of characters after\n",
    "# patternStartsWithNumber = \"^\\d{1,2}-.*$\"\n",
    "# days, module2_files = openModule(\"Module2\",pattern=patternStartsWithNumber)\n",
    "\n",
    "\n",
    "# days_m1, module1_files = openModule(\"Module1\",pattern='^day\\d\\d')\n",
    "\n",
    "# days_m3, module3_files = openModule(\"Module3\",pattern='^day\\d\\d')\n",
    "# days_m4, module4_files = openModule(\"Module4\",pattern='^day\\d\\d')\n",
    "# days_m5, module5_files = openModule(\"Module5\",pattern='^day\\d\\d')\n",
    "# days_m6, module6_files = openModule(\"Module6\",pattern='^day\\d\\d')\n"
   ]
  },
  {
   "cell_type": "code",
   "execution_count": 19,
   "metadata": {},
   "outputs": [],
   "source": [
    "from IPython.display import HTML, display\n",
    "\n",
    "def processItems(items):\n",
    "    if \"items\" not in items:\n",
    "        return '' #None\n",
    "    \n",
    "    \n",
    "    items = items['items']\n",
    "    names = [item['name'] for item in items]\n",
    "\n",
    "    if len(names) == 0: return ''#None\n",
    "\n",
    "    output = ''\n",
    "    for name in names:\n",
    "        output = output + name + '<br>'\n",
    "\n",
    "    return output\n",
    "    \n",
    "\n",
    "    # if items is None or len(items) == 0 : \n",
    "    #     return 'None'\n",
    "    # else:\n",
    "    #     return [item['name'] for item in items]\n",
    "\n",
    "def generateOutline(days):\n",
    "\n",
    "    day_number = ['day#']\n",
    "    preclass = ['preclass']\n",
    "    inclass = ['inclass']\n",
    "    postclass = ['postclass']\n",
    "\n",
    "    i=1\n",
    "    for day in days:\n",
    "        day_number.append(i)\n",
    "        i += 1\n",
    "        preclass.append(processItems(day['dateTypes']['general']['preClass']))\n",
    "        inclass.append(processItems(day['dateTypes']['general']['inClass']))\n",
    "        postclass.append([processItems(day['dateTypes']['general']['postClass']),processItems(day['dateTypes']['projects']['postClass'])])\n",
    "        \n",
    "\n",
    "    return [day_number,preclass, inclass, postclass]\n",
    "\n",
    "\n",
    "def generateOutlineDayRows(days):\n",
    "\n",
    "    outline = []\n",
    "    outline.append(['day#','preclass', 'inclass', 'postclass'])\n",
    "\n",
    "    i=1\n",
    "    for day in days:\n",
    "        row = []\n",
    "\n",
    "        row.append(i)\n",
    "        i += 1\n",
    "        # \n",
    "        row.append(processItems(day['dateTypes']['general']['preClass']) + '<br>' + processItems(day['dateTypes']['css']['preClass']))\n",
    "        # processItems(day['dateTypes']['css']['inClass'])]\n",
    "        row.append(processItems(day['dateTypes']['general']['inClass']) + '<br>' + processItems(day['dateTypes']['css']['inClass']))\n",
    "        \n",
    "        allPostClass = ''\n",
    "        for x in [processItems(day['dateTypes']['general']['postClass']), processItems(day['dateTypes']['projects']['postClass'])]:\n",
    "            if x : allPostClass += x + '<br>'\n",
    "         \n",
    "         \n",
    "        row.append(allPostClass)\n",
    "\n",
    "        outline.append(row)\n",
    "        \n",
    "\n",
    "    return outline\n",
    "\n",
    "def displayTableFromData(data):\n",
    "    display(HTML(\n",
    "    '<table><tr>{}</tr></table>'.format(\n",
    "        '</tr><tr>'.join(\n",
    "            '<td>{}</td>'.format('</td><td>'.join(str(_) for _ in row)) for row in data)\n",
    "        )\n",
    "    ))\n",
    "\n",
    "def displayModuleTable(days):\n",
    "\n",
    "    # module_outline = generateOutline(days)\n",
    "    module_outline = generateOutlineDayRows(days)\n",
    "\n",
    "    data = module_outline #[list(x) for x in zip(module_outline)]\n",
    "\n",
    "    displayTableFromData(data)\n",
    "\n",
    "def generateOutlineAlgos(days):\n",
    "\n",
    "    outline = []\n",
    "    outline.append(['day#','preclass', 'inclass', 'postclass'])\n",
    "\n",
    "    i=1\n",
    "    for day in days:\n",
    "        row = []\n",
    "\n",
    "        row.append(i)\n",
    "        i += 1\n",
    "        row.append(processItems(day['preClass']))\n",
    "        row.append(processItems(day['inClass']))\n",
    "        row.append(processItems(day['postClass']))\n",
    "\n",
    "\n",
    "        outline.append(row)\n",
    "        \n",
    "\n",
    "    return outline\n",
    "\n",
    "\n",
    "def displayAlgosTable(algosJson):\n",
    "    data = generateOutlineAlgos(algosJson)\n",
    "    displayTableFromData(data)\n",
    "\n",
    "\n"
   ]
  },
  {
   "cell_type": "markdown",
   "metadata": {},
   "source": [
    "# Module 1"
   ]
  },
  {
   "cell_type": "code",
   "execution_count": 20,
   "metadata": {},
   "outputs": [
    {
     "data": {
      "text/html": [
       "<table><tr><td>day#</td><td>preclass</td><td>inclass</td><td>postclass</td></tr><tr><td>1</td><td>1.0: Module 1 Overview<br>1.1: HTML<br>1.1.0: Wireframes<br>1.1.1: HTML Basics<br>0.0: Module 0 Overview<br>0.1: New JS Syntax<br>0.2: ES6<br>0.2.1: ES6 Basics<br>1.2: DOM Review<br>1.2.1: DOM Review - Creating Elements<br>1.2.2: DOM Review - Events<br><br></td><td>1.ICE.1: Drawing DOM<br><br></td><td>1.POCE.1: Noodle Recipe Website<br><br></td></tr><tr><td>2</td><td>0.3: Reading Documentation<br>1.3: High Card DOM<br>1.4: setTimeout<br><br>CSS.1: Basic CSS (Exercises Part 1)<br></td><td>Review 1 student's 1.POCE.1: Noodle Recipe Website<br>1.ICE.1: Drawing DOM (continued)<br><br></td><td>1.POCE.2: High Card DOM<br><br></td></tr><tr><td>3</td><td>1.5: High Card setTimeout<br>1.6: Match Game<br>0.2.4: Reference vs. Value<br><br>CSS.1: Basic CSS (Exercises Part 2)<br></td><td>Peer-Review: 1.POCE.2: High Card<br>1.ICE.2: Timeout / High Card Redux<br><br></td><td>1.POCE.3: Match Game<br><br></td></tr><tr><td>4</td><td>1.7: setInterval<br>1.8: Timer<br><br>CSS.2.1 No Layout<br>CSS.2.2 Display Inline Block<br></td><td>Peer-Review: 1.POCE.3: Match Game<br>1.ICE.3: setInterval<br><br></td><td>1.POCE.4: Timer<br><br></td></tr><tr><td>5</td><td>1.9: Tic Tac Toe<br>1.10: Multi File Refactor<br><br>CSS.2.3: Box Model<br>CSS.2.4: Layout Width<br></td><td>Peer-Review: 1.POCE.4: Timer<br><br></td><td>1.POCE.5: Tic Tac Toe<br><br></td></tr><tr><td>6</td><td>1.11: CSS Control with DOM<br>0.4: JS Object as Tally<br><br>CSS.2.5: Display Inline Block<br>CSS.2.6: Layout Col / Card<br></td><td>Peer-Review: 1.POCE.5: Tic Tac Toe<br><br></td><td>Project 1 Implementation<br><br></td></tr><tr><td>7</td><td><br>CSS.2.7: Position<br>CSS.2.8: Float<br></td><td><br>1.ICE.CSS.1: Straits Times<br></td><td>Project 1 Implementation<br><br></td></tr><tr><td>8</td><td>2.0: Module 2 Setup<br><br>CSS.3 Flexbox<br></td><td><br>1.ICE.CSS.2: Wikipedia<br></td><td>Project 1 Implementation<br><br></td></tr><tr><td>9</td><td><br>CSS.3.1: Flexbox Columns<br></td><td><br>1.ICE.CSS.4: Etsy<br></td><td>Project 1 Implementation<br><br></td></tr><tr><td>10</td><td><br>CSS.4 Responsive Design<br>CSS.5: Web Design Basics<br></td><td><br></td><td>Project 1 Implementation<br>Project 1: Deploy to GitHub Pages<br><br></td></tr><tr><td>11</td><td><br></td><td><br></td><td>Project 1 Post-Mortems<br><br></td></tr><tr><td>12</td><td>2.0: Module 2 Overview<br>2.1: My First Node.js Program<br>2.2: Command Line Programs<br><br></td><td>2.ICE.1: Conversions<br><br></td><td>2.POCE.1: Command Line Colour Converter<br><br></td></tr><tr><td>13</td><td>2.3: Modules<br>2.4: Disk Reading<br><br></td><td>2.ICE.2: Modules, Disk Reading<br><br></td><td>2.POCE.2: CSS Reader<br><br></td></tr><tr><td>14</td><td>2.5: Disk Writing<br>2.6: Disk Altering<br>2.7: Internet 101<br>2.8: Chrome Networking<br><br></td><td>2.ICE.3: Disk Altering<br><br></td><td>2.POCE.3: CSS Processor<br><br></td></tr><tr><td>15</td><td>2.9: HTTP Requests and Responses<br>2.10: HTTP File Server<br>Install ngrok. We will use it in 2.ICE.4.<br><br>CSS.6 Bootstrap<br></td><td>Review 2.POCE.3: CSS Processor<br>2.ICE.4: Servers and Requests<br><br></td><td>2.POCE.4: File Server<br><br></td></tr></table>"
      ],
      "text/plain": [
       "<IPython.core.display.HTML object>"
      ]
     },
     "metadata": {},
     "output_type": "display_data"
    }
   ],
   "source": [
    "days_m1, module1_files = openModule(\"Module1\",pattern='^day\\d\\d.json')\n",
    "displayModuleTable(days_m1)"
   ]
  },
  {
   "cell_type": "markdown",
   "metadata": {},
   "source": [
    "# Module 2\n",
    "\n",
    "## Pre class Topics: \n",
    "- Express, \n",
    "- EJS, \n",
    "- HTML Forms, \n",
    "- JS Promises\n",
    "- SQL\n",
    "- Postgres\n",
    "- Schema Design\n",
    "- 1-1, 1-many, many-many\n",
    "- inner join\n",
    "- relationship tables\n",
    "- Dates, Uploads, Simple User Auth\n",
    "\n",
    "## Excercises and Projects\n",
    "- Bigfoot (Express, EJS, Forms) includes JSON Storage\n",
    "- Noodle App (Express, EJS)\n",
    "- UFO Sightings (Express, EJS, JS Dates/Moment) (with reference solution)\n",
    "- CLI Meal Tracker (SQL, Node)\n",
    "- Bird Watching (Express, EJS, Auth, 1-many, many-many,) reference solution available\n",
    "- Schema Design (Carousell, Uber, IG, Airbnb)\n",
    "\n",
    "## Principle in selecting projects\n",
    " - students have given feedback that they prefer longer activities that span multiple days. rather than single disjoint activities.\n",
    " - mini projects can also be group work, to create accountability and community."
   ]
  },
  {
   "cell_type": "code",
   "execution_count": 22,
   "metadata": {},
   "outputs": [
    {
     "data": {
      "text/html": [
       "<table><tr><td>day#</td><td>preclass</td><td>inclass</td><td>postclass</td></tr><tr><td>1</td><td>3.0: Overview<br>3.1: Express.js<br>3.1.1: Express with JSON DB<br></td><td>3.ICE.1: Bigfoot<br></td><td>3.POCE.1: Express Noodle App<br><br></td></tr><tr><td>2</td><td>3.2: EJS<br>3.2.2: EJS Conditionals<br>3.2.3: EJS Partials<br></td><td>3.ICE.2: Bigfoot EJS<br></td><td>3.POCE.2: Express, EJS Noodle App<br><br></td></tr><tr><td>3</td><td>3.1.2: HTML Forms<br>3.1.3: Handling POST Requests<br>3.1.4: PUT, DELETE Requests<br>0.7: Thunder Client<br></td><td>3.ICE.3: Bigfoot POST<br></td><td>3.POCE.3: UFO Sightings<br><br></td></tr><tr><td>4</td><td>3.3: SQL Language<br>3.3.1: Basic SQL Commands<br>3.4: SQL Applications<br>3.4.1: PostgreSQL, psql<br>3.4.2: PostgreSQL Node App<br></td><td>3.POCE.4: Meal Tracker<br></td><td>3.POCE.3: UFO Sightings<br><br></td></tr><tr><td>5</td><td>0.8: JS Promises<br>0.8.1: Promise.prototype.catch, Promise.all<br>3.4.3: Nested SQL Queries<br>3.3.6: SQL Schema Design<br></td><td>3.ICE.9: DB Schema Design - Carousell<br></td><td>3.POCE.3: UFO Sightings<br>Project 2 Ideation Phase 1<br><br></td></tr><tr><td>6</td><td>3.4.4: PostgreSQL Express App<br>3.3.2: SQL Relationships (One to Many)<br>3.4.5: Forms for One-to-Many Relationships<br></td><td>3.ICE.5: One to Many<br></td><td>3.POCE.5: Bird Watching<br><br></td></tr><tr><td>7</td><td>3.4.7: pg Promises<br>3.3.3: SQL Relationships (Many to Many)<br>3.4.6: Forms for Many-to-Many Relationships<br></td><td>3.ICE.7: Many-to-Many<br></td><td>3.POCE.7: Bird Watching Species<br><br></td></tr><tr><td>8</td><td>3.3.4: Inner Join<br>3.3.5: Non-FK Relationship Data in Join Table<br></td><td>3.ICE.6: Inner Joins<br>3.ICE.8: Multiple Foreign Keys<br></td><td>Project 2 Ideation Phase 2<br><br></td></tr><tr><td>9</td><td>3.4.10: Dates in SQL and JS<br>3.4.11: File Uploads<br>3.5.1: Cookies<br>3.5.2: User Auth<br></td><td>3.POCE.6: Bird Watching Users<br></td><td>3.POCE.8: Bird Watching Behaviour<br><br>Project 2 Ideation Phase 2<br><br></td></tr><tr><td>10</td><td>3.4.9: Database Setup Files<br>3.4.8: SQL Clients<br></td><td>3.ICE.12: DB Schema Design - Instagram<br></td><td>3.POCE.9: Bird Watching Comments<br><br></td></tr><tr><td>11</td><td>None</td><td>Due: Project 2 Ideation Phase 2<br>Project 2 Peer Planning Review<br></td><td>Project 2 Implementation<br><br></td></tr><tr><td>12</td><td>None</td><td>None</td><td>Project 2 Implementation<br><br></td></tr><tr><td>13</td><td>None</td><td>None</td><td>Project 2 Mid-Point Instructor Meeting (30 minutes)<br>Project 2 Implementation<br><br></td></tr><tr><td>14</td><td>None</td><td>None</td><td>Project 2 Implementation<br><br></td></tr><tr><td>15</td><td>None</td><td>None</td><td>Project 2 Implementation<br><br></td></tr><tr><td>16</td><td>3.6: Heroku<br>3.6.1: Heroku Deploy<br>3.6.2: Heroku Postgres<br>3.6.3: Heroku S3<br>0.10: Introduction to Classes<br></td><td>None</td><td>3.POCE.11: Heroku Deployment<br><br></td></tr></table>"
      ],
      "text/plain": [
       "<IPython.core.display.HTML object>"
      ]
     },
     "metadata": {},
     "output_type": "display_data"
    }
   ],
   "source": [
    "\n",
    "# Module 2 filenames start with 1 or 2 digits, then -, then any number of characters after\n",
    "patternStartsWithNumber = \"^\\d{1,2}-.*$\"\n",
    "days, module2_files = openModule(\"Module2\",pattern=patternStartsWithNumber)\n",
    "\n",
    "displayModuleTable(days)\n"
   ]
  },
  {
   "cell_type": "markdown",
   "metadata": {},
   "source": [
    "# Module 3\n",
    "\n",
    "## Pre class Topics: \n",
    "- Sequelize\n",
    "- MVC\n",
    "- AJAX\n",
    "- Webpack\n",
    "\n",
    "## Excercises and Projects\n",
    "- CLI Travel Itinerary\n",
    "- Refactor Project 2\n",
    "- Drummers for Hire\n",
    "- Bug Reports\n"
   ]
  },
  {
   "cell_type": "code",
   "execution_count": 7,
   "metadata": {},
   "outputs": [
    {
     "data": {
      "text/html": [
       "<table><tr><td>day#</td><td>preclass</td><td>inclass</td><td>postclass</td></tr><tr><td>1</td><td>4.0: Module 4 Overview<br>4.1: ORM, Sequelize<br>4.1.1: Intro to Sequelize<br>4.1.2: Sequelize One-to-Many<br></td><td>3.ICE.13: DB Schema Design - Airbnb<br></td><td>4.POCE.1: Sequelize CLI App - Travel Itinerary<br><br></td></tr><tr><td>2</td><td>0.8.2: Try Catch<br>0.8.3: Async/Await<br>4.1.3: Async/Await with Sequelize<br></td><td>4.POCE.1: Sequelize CLI App - Travel Itinerary (Pair Programming)<br></td><td>4.POCE.1: Sequelize CLI App - Travel Itinerary<br><br></td></tr><tr><td>3</td><td>4.2: MVC<br>4.2.1: RESTful Routes<br></td><td>4.POCE.2: Drummers for Hire<br></td><td>4.POCE.2: Drummers for Hire<br><br></td></tr><tr><td>4</td><td>4.1.4: Sequelize Many-to-Many<br></td><td>4.POCE.3: Project 2 MVC Refactor<br></td><td>4.POCE.2: Drummers for Hire<br><br></td></tr><tr><td>5</td><td>4.1.5: Sequelize Many-to-Many with Non-FK Attributes in \"Through Table\"<br>5.0: Module 5 Overview<br>5.1: DOM Manipulation with Express App<br></td><td>5.ICE.1: Full-Stack Modal<br></td><td>4.POCE.3: Project 2 MVC Refactor<br><br></td></tr><tr><td>6</td><td>4.1.6 Sequelize Validations<br>5.2: AJAX<br></td><td>5.ICE.2: AJAX<br></td><td>4.POCE.3: Project 2 MVC Refactor<br><br></td></tr><tr><td>7</td><td>4.1.7: Sequelize Eager Loading<br>5.2.1: AJAX POST Requests<br></td><td>5.ICE.3: Bug Reports AJAX<br></td><td>5.POCE.1: Bug Reports AJAX<br><br></td></tr><tr><td>8</td><td>4.1.8: Multiple FK Columns Referencing Same Table<br></td><td>5.ICE.4: Cross-Domain AJAX<br></td><td>5.POCE.2: Bug Reports AJAX Users<br><br></td></tr><tr><td>9</td><td>6.1: Webpack<br>5.2.2: AJAX Cards<br>6.1.1: Webpack with Local Modules<br>6.0: Module 6 Overview<br></td><td>Bug Reports (5.POCE.1, 5.POCE.2) Redux <br></td><td>5.POCE.3: AJAX Cards<br><br>Project 3 Ideation Phase 1<br><br></td></tr><tr><td>10</td><td>6.1.2: Webpack with NPM Modules<br>6.1.5: Webpack with Express<br>Group Work (for project management)<br></td><td>6.ICE.1: NPM Webpack<br></td><td>5.POCE.3: AJAX Cards<br><br>Project 3 Ideation Phase 1<br><br></td></tr><tr><td>11</td><td>None</td><td>None</td><td>Project 3 Implementation<br><br></td></tr><tr><td>12</td><td>4.1.10: Deploy Sequelize App to Heroku<br>6.1.6: Deploy Webpack App to Heroku<br></td><td>None</td><td>Project 3 Implementation<br><br></td></tr><tr><td>13</td><td>None</td><td>None</td><td>Project 3 Implementation<br><br></td></tr><tr><td>14</td><td>None</td><td>None</td><td>Project 3 Implementation<br><br></td></tr><tr><td>15</td><td>None</td><td>None</td><td>Project 3 Implementation<br><br></td></tr><tr><td>16</td><td>None</td><td>None</td><td>Project 3 Post-Mortems<br>Project 3 Video Demo<br><br></td></tr></table>"
      ],
      "text/plain": [
       "<IPython.core.display.HTML object>"
      ]
     },
     "metadata": {},
     "output_type": "display_data"
    }
   ],
   "source": [
    "days_m3, module3_files = openModule(\"Module3\",pattern='^day\\d\\d')\n",
    "displayModuleTable(days_m3)"
   ]
  },
  {
   "cell_type": "markdown",
   "metadata": {},
   "source": [
    "# Module 4\n",
    "\n",
    "## Pre class Topics: \n",
    "- XX\n",
    "\n",
    "## Excercises and Projects\n",
    "- xx"
   ]
  },
  {
   "cell_type": "code",
   "execution_count": 8,
   "metadata": {},
   "outputs": [
    {
     "data": {
      "text/html": [
       "<table><tr><td>day#</td><td>preclass</td><td>inclass</td><td>postclass</td></tr><tr><td>1</td><td>7.0: Module 7 Overview<br>7.1: JSX Intro<br>7.1.1: Conditional Rendering<br>7.1.2: Rendering In a Loop<br></td><td>7.ICE.1: JSX Products Items<br></td><td>7.POCE.1: JSX Bug Reports<br><br>Project 3 Video Demo<br><br></td></tr><tr><td>2</td><td>7.2: React Components<br>7.2.1: Props<br>7.2.2: Generating Components from a List<br>7.2.3: Class Components<br></td><td>7.ICE.2: React Pokedex<br></td><td>7.ICE.2: React Pokedex<br><br>Project 3 Video Demo<br><br></td></tr><tr><td>3</td><td>7.3: Using React with Express and Webpack<br>7.4: React State<br></td><td>7.ICE.3: React Cards<br></td><td>7.POCE.2: React Tic Tac Toe<br><br></td></tr><tr><td>4</td><td>7.5: Controlled Forms<br>7.6: Passing Data Between Sibling Components<br></td><td>7.ICE.4: Guess the Word<br></td><td>7.POCE.3: Read Later<br><br></td></tr><tr><td>5</td><td>7.7: Designing Component Hierarchy<br>7.7.1: AJAX Requests from Components<br>7.9: React Dev Tools<br></td><td>7.ICE.5: Create Item<br></td><td>7.POCE.3: Read Later<br><br></td></tr><tr><td>6</td><td>None</td><td>Review 7.POCE.3: Read Later<br></td><td>7.POCE.4: Hot Pot Bill Splitter<br><br>Project 4 Ideation Phase 1<br><br></td></tr><tr><td>7</td><td>7.7.2: useEffect<br></td><td>None</td><td>7.POCE.4: Hot Pot Bill Splitter<br><br>Project 4 Ideation Phase 1<br><br></td></tr><tr><td>8</td><td>7.8: Error Boundaries<br></td><td>None</td><td>7.POCE.4: Hot Pot Bill Splitter<br><br>Project 4 Ideation Phase 1<br><br></td></tr><tr><td>9</td><td>None</td><td>Review 7.POCE.4: Hot Pot Bill Splitter<br></td><td>Project 4 Ideation Phase 2<br><br></td></tr><tr><td>10</td><td>None</td><td>None</td><td>Start: Project 4 Implementation<br><br></td></tr><tr><td>11</td><td>None</td><td>None</td><td>Project 4 Implementation<br><br></td></tr><tr><td>12</td><td>None</td><td>None</td><td>Project 4 Implementation<br><br></td></tr><tr><td>13</td><td>None</td><td>None</td><td>Project 4 Implementation<br><br></td></tr><tr><td>14</td><td>None</td><td>None</td><td>Project 4 Implementation<br><br></td></tr><tr><td>15</td><td>None</td><td>None</td><td>Project 4 Implementation<br><br></td></tr><tr><td>16</td><td>None</td><td>None</td><td>Project 4 Post-Mortems<br>Project 4 Video Demo<br><br></td></tr></table>"
      ],
      "text/plain": [
       "<IPython.core.display.HTML object>"
      ]
     },
     "metadata": {},
     "output_type": "display_data"
    }
   ],
   "source": [
    "\n",
    "days_m4, module4_files = openModule(\"Module4\",pattern='^day\\d\\d')\n",
    "displayModuleTable(days_m4)"
   ]
  },
  {
   "cell_type": "markdown",
   "metadata": {},
   "source": [
    "# Module 5\n",
    "\n",
    "## Pre class Topics: \n",
    "- xx\n",
    "\n",
    "## Excercises and Projects\n",
    "- xx"
   ]
  },
  {
   "cell_type": "code",
   "execution_count": 9,
   "metadata": {},
   "outputs": [
    {
     "data": {
      "text/html": [
       "<table><tr><td>day#</td><td>preclass</td><td>inclass</td><td>postclass</td></tr><tr><td>1</td><td>8.0: Module 8 Overview<br>8.1: Create React App<br>8.1.1: Create React App Full Stack<br>8.2: Higher Order Components<br></td><td>None</td><td>Project 5 Ideation Phase 1<br><br></td></tr><tr><td>2</td><td>8.3.1: useContext<br>8.3.2: useReducer<br>8.3.3: useContext + useReducer<br></td><td>8.ICE.1: useContext<br></td><td>8.POCE.1: Car Rental<br><br>Project 5 Ideation Phase 1<br><br></td></tr><tr><td>3</td><td>8.3.4: React E-Commerce App with Store<br></td><td>None</td><td>8.POCE.1: Car Rental<br><br>Project 5 Ideation 2<br><br></td></tr><tr><td>4</td><td>8.4: React Router<br>8.4.1: React Router Shopping<br>8.4.2: React Router Deep Linking<br></td><td>None</td><td>8.POCE.1: Car Rental<br><br>Project 5 Ideation Phase 2<br><br></td></tr><tr><td>5</td><td>8.5: Advanced useEffect<br></td><td>None</td><td>8.POCE.2: (Group Project) Climbing Trip<br><br></td></tr><tr><td>6</td><td>8.6: Styled Components<br>8.7: React Portals<br></td><td>None</td><td>8.POCE.2: (Group Project) Climbing Trip<br><br>Project 5 Implementation<br><br></td></tr><tr><td>7</td><td>8.8: React NPM Packages<br></td><td>None</td><td>8.POCE.2: (Group Project) Climbing Trip<br><br>Project 5 Implementation<br><br></td></tr><tr><td>8</td><td>None</td><td>None</td><td>8.POCE.2: (Group Project) Climbing Trip<br><br>Project 5 Implementation<br><br></td></tr><tr><td>9</td><td>None</td><td>8.POCE.2: Climbing Trip Redux<br></td><td>Project 5 Implementation<br><br></td></tr></table>"
      ],
      "text/plain": [
       "<IPython.core.display.HTML object>"
      ]
     },
     "metadata": {},
     "output_type": "display_data"
    }
   ],
   "source": [
    "days_m5, module5_files = openModule(\"Module5\",pattern='^day\\d\\d')\n",
    "displayModuleTable(days_m5)"
   ]
  },
  {
   "cell_type": "markdown",
   "metadata": {},
   "source": [
    "# Module 6\n",
    "\n",
    "## Pre class Topics: \n",
    "- xx\n",
    "\n",
    "## Excercises and Projects\n",
    "- xx"
   ]
  },
  {
   "cell_type": "code",
   "execution_count": 10,
   "metadata": {},
   "outputs": [
    {
     "data": {
      "text/html": [
       "<table><tr><td>day#</td><td>preclass</td><td>inclass</td><td>postclass</td></tr><tr><td>1</td><td>9.0: Module 9 Overview<br>9.1: Testing<br>9.1.1: Unit Testing<br>9.1.2: TDD<br>9.1.3: CI<br></td><td>9.ICE.1: Unit Testing<br></td><td>Project 5 Implementation<br><br></td></tr><tr><td>2</td><td>9.2.1: XSS<br>9.2.2: CSRF<br>9.2.3: SQL Injection<br></td><td>None</td><td>Project 5 Implementation<br><br></td></tr><tr><td>3</td><td>None</td><td>None</td><td>Project 5 Post-Mortems<br>Project 5 Video<br>Project 6 Ideation Phase 1<br><br></td></tr><tr><td>4</td><td>None</td><td>None</td><td>Project 5 Video<br>Project 6 Exploration Time<br><br></td></tr><tr><td>5</td><td>None</td><td>None</td><td>Project 6 Implementation<br>Project 6 Exploration Time<br><br></td></tr><tr><td>6</td><td>None</td><td>None</td><td>Project 6 Implementation<br>Project 6 Ideation Phase 2<br><br></td></tr><tr><td>7</td><td>None</td><td>None</td><td>Project 6 Implementation<br><br></td></tr><tr><td>8</td><td>None</td><td>None</td><td>Project 6 Implementation<br><br></td></tr><tr><td>9</td><td>None</td><td>None</td><td>Project 6 Implementation<br><br></td></tr><tr><td>10</td><td>None</td><td>None</td><td>Project 6 Implementation<br><br></td></tr></table>"
      ],
      "text/plain": [
       "<IPython.core.display.HTML object>"
      ]
     },
     "metadata": {},
     "output_type": "display_data"
    }
   ],
   "source": [
    "days_m6, module6_files = openModule(\"Module6\",pattern='^day\\d\\d')\n",
    "displayModuleTable(days_m6)"
   ]
  },
  {
   "cell_type": "markdown",
   "metadata": {},
   "source": [
    "# TODOs\n",
    "### testing\n",
    "- find the good place for testing (sequelize? MVC?)\n",
    "- remove webpack from module 3. move it to module 5.\n",
    "- put testing in module 3. so students can test their model and controllers separately. \n",
    "\n",
    "### auth\n",
    "- find the right place for auth+JWT (module 4, 5, or 6)\n",
    "- i prefer module 4, but if it doesn't fit, module 5 is ok.\n",
    "\n",
    "### orphaned topics\n",
    "- put the JSON, GIT, Guthub file read, etc stuff into Bootcamp Warmup"
   ]
  },
  {
   "cell_type": "markdown",
   "metadata": {},
   "source": [
    "# Algos\n",
    "\n",
    "- already 39 days. kind of fits already.\n",
    "- 1-2 \"days\" a week, every friday."
   ]
  },
  {
   "cell_type": "code",
   "execution_count": 23,
   "metadata": {},
   "outputs": [
    {
     "data": {
      "text/html": [
       "<table><tr><td>day#</td><td>preclass</td><td>inclass</td><td>postclass</td></tr><tr><td>1</td><td>A.0: Algorithms Overview<br>A.1: Intro to SWE Interviews<br>A.2: Intro to Python (Exercises 1-8)<br></td><td>None</td><td>None</td></tr><tr><td>2</td><td>A.2: Intro to Python (Exercises 9-11)<br></td><td>None</td><td>None</td></tr><tr><td>3</td><td>A.3: Complexity Analysis, Big-O Notation<br>A.4: Interview Strategies<br>A.4.1 Introduction to Algorithm Problems<br></td><td>None</td><td>None</td></tr><tr><td>4</td><td>A.5.1: Arrays - Pre-Class<br></td><td>None</td><td>None</td></tr><tr><td>5</td><td>None</td><td>A.5.1: Arrays - Part 1<br></td><td>A.5.1: Arrays - Part 1<br></td></tr><tr><td>6</td><td>None</td><td>A.5.1: Arrays - Part 2<br></td><td>A.5.1: Arrays - Part 2<br></td></tr><tr><td>7</td><td>A.5.2: Hash Tables - Pre-Class<br></td><td>A.5.2: Hash Tables - Part 1<br></td><td>A.5.2: Hash Tables - Part 1<br></td></tr><tr><td>8</td><td>None</td><td>A.5.2: Hash Tables - Part 2<br></td><td>A.5.2: Hash Tables - Part 2<br></td></tr><tr><td>9</td><td>A.6: Object-Oriented Programming<br></td><td>A.8: Object-Oriented Programming<br></td><td>None</td></tr><tr><td>10</td><td>A.5.3: Stacks - Pre-Class<br></td><td>A.5.3: Stacks - Part 1<br></td><td>A.5.3: Stacks - Part 1<br></td></tr><tr><td>11</td><td>None</td><td>A.5.3: Stacks - Part 2<br></td><td>A.5.3: Stacks - Part 2<br></td></tr><tr><td>12</td><td>A.5.5: Linked Lists - Pre-Class<br></td><td>A.5.5: Linked Lists - Part 1<br></td><td>A.5.5: Linked Lists - Part 1<br></td></tr><tr><td>13</td><td>None</td><td>A.5.5: Linked Lists - Part 2<br></td><td>A.5.5: Linked Lists - Part 2<br></td></tr><tr><td>14</td><td>None</td><td>None</td><td>A.5.5: Linked Lists - Part 3<br></td></tr><tr><td>15</td><td>A.6: Binary Search - Pre-Class<br></td><td>None</td><td>None</td></tr><tr><td>16</td><td>None</td><td>None</td><td>A.6: Binary Search - Part 1 <br></td></tr><tr><td>17</td><td>A.5.4: Queues - Pre-Class<br></td><td>A.5.4: Queues - Part 1<br></td><td>A.5.4: Queues - Part 1<br></td></tr><tr><td>18</td><td>A.7: Recursion - Required Reading<br></td><td>A.7: Recursion - Part 1<br></td><td>A.7: Recursion - Part 1<br></td></tr><tr><td>19</td><td>None</td><td>A.7: Recursion - Part 2<br></td><td>A.7: Recursion - Part 2<br></td></tr><tr><td>20</td><td>None</td><td>A.7: Recursion - Part 3<br></td><td>A.7: Recursion - Part 3<br></td></tr><tr><td>21</td><td>A.8: Sorting Algorithms<br></td><td>A.10: Sorting Algorithms<br></td><td>None</td></tr><tr><td>22</td><td>A.5.6: Trees - Pre-Class<br></td><td>A.5.6: Trees - Part 1<br></td><td>A.5.6: Trees - Part 1<br></td></tr><tr><td>23</td><td>Binary Search Trees<br></td><td>A.5.6: Trees - Part 2<br></td><td>A.5.6: Trees - Part 2<br></td></tr><tr><td>24</td><td>None</td><td>A.5.6: Trees - Part 3<br></td><td>A.5.6: Trees - Part 3<br></td></tr><tr><td>25</td><td>A.10: Sorting Algorithms - Part 2<br></td><td>A.10: Sorting Algorithms - Part 2<br></td><td>None</td></tr><tr><td>26</td><td>A.11.1: Recursive Backtracking - Pre-Class<br></td><td>A.11.1: Recursive Backtracking - Part 1<br></td><td>A.11.1: Recursive Backtracking - Part 1<br></td></tr><tr><td>27</td><td>None</td><td>A.5.6: Trees - Part 4<br></td><td>A.5.6: Trees - Part 4<br></td></tr><tr><td>28</td><td>None</td><td>A.5.6: Trees - Part 5<br></td><td>A.5.6: Trees - Part 5<br></td></tr><tr><td>29</td><td>None</td><td>A.5.6: Trees - Part 6<br></td><td>A.5.6: Trees - Part 6<br></td></tr><tr><td>30</td><td>A.5.7: Graphs - Pre-Class<br></td><td>A.5.7: Graphs - Part 1<br></td><td>A.5.7: Graphs - Part 1<br></td></tr><tr><td>31</td><td>None</td><td>A.5.7: Graphs - Part 2<br></td><td>A.5.7: Graphs - Part 2<br></td></tr><tr><td>32</td><td>None</td><td>A.5.8: Heaps - Part 1<br></td><td>A.5.8: Heaps - Part 1<br></td></tr><tr><td>33</td><td>A.5.8: Heaps - Pre-Class<br></td><td>A.5.8: Heaps - Part 2<br></td><td>A.5.8: Heaps - Part 2<br></td></tr><tr><td>34</td><td>None</td><td>None</td><td>A.5.8: Heaps - Part 3<br></td></tr><tr><td>35</td><td>A.9: Dynamic Programming - Pre-Class<br></td><td>A.9: Dynamic Programming - Part 1<br></td><td>A.9: Dynamic Programming - Part 1<br></td></tr><tr><td>36</td><td>None</td><td>A.9: Dynamic Programming - Part 2<br></td><td>A.9: Dynamic Programming - Part 2<br></td></tr><tr><td>37</td><td>None</td><td>A.9: Dynamic Programming - Part 3<br></td><td>A.9: Dynamic Programming - Part 3<br></td></tr><tr><td>38</td><td>None</td><td>Algorithms Open Practice<br>A.10: Bit Manipulation - Part 1<br></td><td>Algorithms Open Practice<br>A.10: Bit Manipulation - Part 1<br></td></tr><tr><td>39</td><td>A.10: Bit Manipulation - Pre-Class<br></td><td>Algorithms Open Practice<br></td><td>Algorithms Open Practice<br></td></tr></table>"
      ],
      "text/plain": [
       "<IPython.core.display.HTML object>"
      ]
     },
     "metadata": {},
     "output_type": "display_data"
    }
   ],
   "source": [
    "algos = json.load(fp=open('algos/algos.json','r'))\n",
    "displayAlgosTable(algos)"
   ]
  }
 ],
 "metadata": {
  "interpreter": {
   "hash": "aee8b7b246df8f9039afb4144a1f6fd8d2ca17a180786b69acc140d282b71a49"
  },
  "kernelspec": {
   "display_name": "Python 3.9.7 64-bit",
   "language": "python",
   "name": "python3"
  },
  "language_info": {
   "codemirror_mode": {
    "name": "ipython",
    "version": 3
   },
   "file_extension": ".py",
   "mimetype": "text/x-python",
   "name": "python",
   "nbconvert_exporter": "python",
   "pygments_lexer": "ipython3",
   "version": "3.9.7"
  },
  "orig_nbformat": 4
 },
 "nbformat": 4,
 "nbformat_minor": 2
}
